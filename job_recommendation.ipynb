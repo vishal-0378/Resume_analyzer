{
 "cells": [
  {
   "cell_type": "code",
   "execution_count": 2,
   "id": "bf2163dd-71a8-4544-a82e-b18d61c361ac",
   "metadata": {},
   "outputs": [],
   "source": [
    "import pandas as pd"
   ]
  },
  {
   "cell_type": "code",
   "execution_count": 3,
   "id": "3d20dbe1-7a03-41e2-99a3-6d674ce73be7",
   "metadata": {},
   "outputs": [],
   "source": [
    "df = pd.read_excel(\"jobs_dataset_with_features.xlsx\")"
   ]
  },
  {
   "cell_type": "code",
   "execution_count": 4,
   "id": "33a86c3e-d1e6-44c8-8780-17355c31e840",
   "metadata": {},
   "outputs": [
    {
     "data": {
      "text/plain": [
       "(1048575, 2)"
      ]
     },
     "execution_count": 4,
     "metadata": {},
     "output_type": "execute_result"
    }
   ],
   "source": [
    "df.shape"
   ]
  },
  {
   "cell_type": "code",
   "execution_count": 5,
   "id": "ea8ed5b7-d627-4018-b74d-d6619eec3950",
   "metadata": {},
   "outputs": [
    {
     "data": {
      "text/html": [
       "<div>\n",
       "<style scoped>\n",
       "    .dataframe tbody tr th:only-of-type {\n",
       "        vertical-align: middle;\n",
       "    }\n",
       "\n",
       "    .dataframe tbody tr th {\n",
       "        vertical-align: top;\n",
       "    }\n",
       "\n",
       "    .dataframe thead th {\n",
       "        text-align: right;\n",
       "    }\n",
       "</style>\n",
       "<table border=\"1\" class=\"dataframe\">\n",
       "  <thead>\n",
       "    <tr style=\"text-align: right;\">\n",
       "      <th></th>\n",
       "      <th>Role</th>\n",
       "      <th>Features</th>\n",
       "    </tr>\n",
       "  </thead>\n",
       "  <tbody>\n",
       "    <tr>\n",
       "      <th>0</th>\n",
       "      <td>Social Media Manager</td>\n",
       "      <td>5 to 15 Years Digital Marketing Specialist M.T...</td>\n",
       "    </tr>\n",
       "    <tr>\n",
       "      <th>1</th>\n",
       "      <td>Frontend Web Developer</td>\n",
       "      <td>2 to 12 Years Web Developer BCA HTML, CSS, Jav...</td>\n",
       "    </tr>\n",
       "    <tr>\n",
       "      <th>2</th>\n",
       "      <td>Quality Control Manager</td>\n",
       "      <td>0 to 12 Years Operations Manager PhD Quality c...</td>\n",
       "    </tr>\n",
       "    <tr>\n",
       "      <th>3</th>\n",
       "      <td>Wireless Network Engineer</td>\n",
       "      <td>4 to 11 Years Network Engineer PhD Wireless ne...</td>\n",
       "    </tr>\n",
       "    <tr>\n",
       "      <th>4</th>\n",
       "      <td>Conference Manager</td>\n",
       "      <td>1 to 12 Years Event Manager MBA Event planning...</td>\n",
       "    </tr>\n",
       "  </tbody>\n",
       "</table>\n",
       "</div>"
      ],
      "text/plain": [
       "                        Role  \\\n",
       "0       Social Media Manager   \n",
       "1     Frontend Web Developer   \n",
       "2    Quality Control Manager   \n",
       "3  Wireless Network Engineer   \n",
       "4         Conference Manager   \n",
       "\n",
       "                                            Features  \n",
       "0  5 to 15 Years Digital Marketing Specialist M.T...  \n",
       "1  2 to 12 Years Web Developer BCA HTML, CSS, Jav...  \n",
       "2  0 to 12 Years Operations Manager PhD Quality c...  \n",
       "3  4 to 11 Years Network Engineer PhD Wireless ne...  \n",
       "4  1 to 12 Years Event Manager MBA Event planning...  "
      ]
     },
     "execution_count": 5,
     "metadata": {},
     "output_type": "execute_result"
    }
   ],
   "source": [
    "df.head()"
   ]
  },
  {
   "cell_type": "code",
   "execution_count": 6,
   "id": "c128360f-5524-414e-b9b6-775aa0392ea3",
   "metadata": {},
   "outputs": [
    {
     "data": {
      "text/plain": [
       "376"
      ]
     },
     "execution_count": 6,
     "metadata": {},
     "output_type": "execute_result"
    }
   ],
   "source": [
    "len(df['Role'].value_counts())"
   ]
  },
  {
   "cell_type": "code",
   "execution_count": 7,
   "id": "f4c35bb7-8268-4fc1-b70c-d4cc496305aa",
   "metadata": {},
   "outputs": [
    {
     "data": {
      "text/plain": [
       "Role\n",
       "Interaction Designer         13420\n",
       "Network Administrator        11339\n",
       "User Experience Designer      9171\n",
       "User Interface Designer       9076\n",
       "Social Media Manager          9040\n",
       "Procurement Analyst           8867\n",
       "Social Media Analyst          6988\n",
       "Executive Assistant           6868\n",
       "Quality Assurance Analyst     6819\n",
       "SEO Specialist                6810\n",
       "Database Administrator        6795\n",
       "Retirement Planner            6754\n",
       "Office Manager                6737\n",
       "Customer Success Manager      6731\n",
       "Data Analyst                  6708\n",
       "Procurement Manager           6703\n",
       "Frontend Developer            6679\n",
       "Demand Planner                6658\n",
       "Backend Developer             6646\n",
       "Name: count, dtype: int64"
      ]
     },
     "execution_count": 7,
     "metadata": {},
     "output_type": "execute_result"
    }
   ],
   "source": [
    "# Dropping classes with less than 6500 instances\n",
    "min_count = 6500\n",
    "role_counts = df['Role'].value_counts()\n",
    "dropped_classes = role_counts[role_counts < min_count].index\n",
    "filtered_df = df[~df['Role'].isin(dropped_classes)].reset_index(drop=True)\n",
    "\n",
    "# Checking the updated role counts\n",
    "filtered_df['Role'].value_counts()"
   ]
  },
  {
   "cell_type": "code",
   "execution_count": 8,
   "id": "ce73bb3c-1713-48f7-93bd-7f17d228d939",
   "metadata": {},
   "outputs": [
    {
     "data": {
      "text/plain": [
       "19"
      ]
     },
     "execution_count": 8,
     "metadata": {},
     "output_type": "execute_result"
    }
   ],
   "source": [
    "len(filtered_df['Role'].value_counts())"
   ]
  },
  {
   "cell_type": "code",
   "execution_count": 9,
   "id": "8e4b2cfa-eb0f-41f4-bc8f-1bfcd04e045c",
   "metadata": {},
   "outputs": [],
   "source": [
    "df = filtered_df.sample(n=15000)"
   ]
  },
  {
   "cell_type": "code",
   "execution_count": 10,
   "id": "5ff23e86-bfa2-464b-a064-fa31b1eaf906",
   "metadata": {},
   "outputs": [
    {
     "data": {
      "text/html": [
       "<div>\n",
       "<style scoped>\n",
       "    .dataframe tbody tr th:only-of-type {\n",
       "        vertical-align: middle;\n",
       "    }\n",
       "\n",
       "    .dataframe tbody tr th {\n",
       "        vertical-align: top;\n",
       "    }\n",
       "\n",
       "    .dataframe thead th {\n",
       "        text-align: right;\n",
       "    }\n",
       "</style>\n",
       "<table border=\"1\" class=\"dataframe\">\n",
       "  <thead>\n",
       "    <tr style=\"text-align: right;\">\n",
       "      <th></th>\n",
       "      <th>Role</th>\n",
       "      <th>Features</th>\n",
       "    </tr>\n",
       "  </thead>\n",
       "  <tbody>\n",
       "    <tr>\n",
       "      <th>59452</th>\n",
       "      <td>Social Media Analyst</td>\n",
       "      <td>2 to 9 Years Social Media Manager M.Tech Socia...</td>\n",
       "    </tr>\n",
       "    <tr>\n",
       "      <th>78939</th>\n",
       "      <td>Procurement Manager</td>\n",
       "      <td>2 to 9 Years Procurement Specialist MCA Procur...</td>\n",
       "    </tr>\n",
       "    <tr>\n",
       "      <th>5217</th>\n",
       "      <td>Interaction Designer</td>\n",
       "      <td>1 to 14 Years UX/UI Designer MBA Interaction d...</td>\n",
       "    </tr>\n",
       "    <tr>\n",
       "      <th>142039</th>\n",
       "      <td>User Experience Designer</td>\n",
       "      <td>4 to 11 Years UX/UI Designer M.Com User-center...</td>\n",
       "    </tr>\n",
       "    <tr>\n",
       "      <th>64593</th>\n",
       "      <td>Quality Assurance Analyst</td>\n",
       "      <td>3 to 14 Years Software Tester MBA Quality assu...</td>\n",
       "    </tr>\n",
       "  </tbody>\n",
       "</table>\n",
       "</div>"
      ],
      "text/plain": [
       "                             Role  \\\n",
       "59452        Social Media Analyst   \n",
       "78939         Procurement Manager   \n",
       "5217         Interaction Designer   \n",
       "142039   User Experience Designer   \n",
       "64593   Quality Assurance Analyst   \n",
       "\n",
       "                                                 Features  \n",
       "59452   2 to 9 Years Social Media Manager M.Tech Socia...  \n",
       "78939   2 to 9 Years Procurement Specialist MCA Procur...  \n",
       "5217    1 to 14 Years UX/UI Designer MBA Interaction d...  \n",
       "142039  4 to 11 Years UX/UI Designer M.Com User-center...  \n",
       "64593   3 to 14 Years Software Tester MBA Quality assu...  "
      ]
     },
     "execution_count": 10,
     "metadata": {},
     "output_type": "execute_result"
    }
   ],
   "source": [
    "df.head()"
   ]
  },
  {
   "cell_type": "code",
   "execution_count": 11,
   "id": "1394a47e-3f0a-4ea7-8463-61a4620ecbab",
   "metadata": {},
   "outputs": [],
   "source": [
    "from sklearn.model_selection import train_test_split\n",
    "from sklearn.feature_extraction.text import TfidfVectorizer\n",
    "from sklearn.ensemble import RandomForestClassifier\n",
    "from sklearn.metrics import accuracy_score\n",
    "\n",
    "# Split the data into features (X) & target (y)\n",
    "X = df['Features']\n",
    "y = df['Role']\n",
    "\n",
    "# Train-test split\n",
    "X_train, X_test, y_train, y_test = train_test_split(X, y, test_size=0.2, random_state=42)\n",
    "\n",
    "# TF-IDF vct\n",
    "tfidf_vectorizer = TfidfVectorizer()\n",
    "X_train_tfidf = tfidf_vectorizer.fit_transform(X_train)\n",
    "X_test_tfidf = tfidf_vectorizer.transform(X_test)"
   ]
  },
  {
   "cell_type": "code",
   "execution_count": 12,
   "id": "f9893c23-9f9c-44ac-bbe5-525e0edc1b0a",
   "metadata": {},
   "outputs": [
    {
     "name": "stdout",
     "output_type": "stream",
     "text": [
      "Accuracy: 1.0\n"
     ]
    }
   ],
   "source": [
    "# RFClassifier\n",
    "rf_classifier = RandomForestClassifier()\n",
    "rf_classifier.fit(X_train_tfidf, y_train)\n",
    "\n",
    "# Predictions\n",
    "y_pred = rf_classifier.predict(X_test_tfidf)\n",
    "\n",
    "# Accuracy\n",
    "accuracy = accuracy_score(y_test, y_pred)\n",
    "print(\"Accuracy:\", accuracy)"
   ]
  },
  {
   "cell_type": "code",
   "execution_count": 13,
   "id": "db48f12b-bc61-4be4-913a-5e3cb3834439",
   "metadata": {},
   "outputs": [
    {
     "name": "stderr",
     "output_type": "stream",
     "text": [
      "<>:3: SyntaxWarning: invalid escape sequence '\\S'\n",
      "<>:5: SyntaxWarning: invalid escape sequence '\\S'\n",
      "<>:6: SyntaxWarning: invalid escape sequence '\\S'\n",
      "<>:7: SyntaxWarning: invalid escape sequence '\\]'\n",
      "<>:9: SyntaxWarning: invalid escape sequence '\\s'\n",
      "<>:3: SyntaxWarning: invalid escape sequence '\\S'\n",
      "<>:5: SyntaxWarning: invalid escape sequence '\\S'\n",
      "<>:6: SyntaxWarning: invalid escape sequence '\\S'\n",
      "<>:7: SyntaxWarning: invalid escape sequence '\\]'\n",
      "<>:9: SyntaxWarning: invalid escape sequence '\\s'\n",
      "C:\\Users\\Sathish\\AppData\\Local\\Temp\\ipykernel_7312\\130700821.py:3: SyntaxWarning: invalid escape sequence '\\S'\n",
      "  cleanText = re.sub('http\\S+\\s', ' ', txt)\n",
      "C:\\Users\\Sathish\\AppData\\Local\\Temp\\ipykernel_7312\\130700821.py:5: SyntaxWarning: invalid escape sequence '\\S'\n",
      "  cleanText = re.sub('#\\S+\\s', ' ', cleanText)\n",
      "C:\\Users\\Sathish\\AppData\\Local\\Temp\\ipykernel_7312\\130700821.py:6: SyntaxWarning: invalid escape sequence '\\S'\n",
      "  cleanText = re.sub('@\\S+', '  ', cleanText)\n",
      "C:\\Users\\Sathish\\AppData\\Local\\Temp\\ipykernel_7312\\130700821.py:7: SyntaxWarning: invalid escape sequence '\\]'\n",
      "  cleanText = re.sub('[%s]' % re.escape(\"\"\"!\"#$%&'()*+,-./:;<=>?@[\\]^_`{|}~\"\"\"), ' ', cleanText)\n",
      "C:\\Users\\Sathish\\AppData\\Local\\Temp\\ipykernel_7312\\130700821.py:9: SyntaxWarning: invalid escape sequence '\\s'\n",
      "  cleanText = re.sub('\\s+', ' ', cleanText)\n"
     ]
    }
   ],
   "source": [
    "import re\n",
    "def cleanResume(txt):\n",
    "    cleanText = re.sub('http\\S+\\s', ' ', txt)\n",
    "    cleanText = re.sub('RT|cc', ' ', cleanText)\n",
    "    cleanText = re.sub('#\\S+\\s', ' ', cleanText)\n",
    "    cleanText = re.sub('@\\S+', '  ', cleanText)  \n",
    "    cleanText = re.sub('[%s]' % re.escape(\"\"\"!\"#$%&'()*+,-./:;<=>?@[\\]^_`{|}~\"\"\"), ' ', cleanText)\n",
    "    cleanText = re.sub(r'[^\\x00-\\x7f]', ' ', cleanText) \n",
    "    cleanText = re.sub('\\s+', ' ', cleanText)\n",
    "    return cleanText\n",
    "\n",
    "\n",
    "# Prediction and Ctg Name\n",
    "def job_recommendation(resume_text):\n",
    "    resume_text= cleanResume(resume_text)\n",
    "    resume_tfidf = tfidf_vectorizer.transform([resume_text])\n",
    "    predicted_category = rf_classifier.predict(resume_tfidf)[0]\n",
    "    return predicted_category"
   ]
  },
  {
   "cell_type": "code",
   "execution_count": 14,
   "id": "f22ecd5e-77ba-41cd-a30a-d027433ba517",
   "metadata": {},
   "outputs": [
    {
     "name": "stdout",
     "output_type": "stream",
     "text": [
      "Predicted Category: User Interface Designer\n"
     ]
    }
   ],
   "source": [
    "# Example Usage\n",
    "resume_file = \"\"\"Objective:\n",
    "A creative and detail-oriented Designer with a passion for visual communication and brand identity seeking opportunities to leverage design skills in a dynamic and collaborative environment.\n",
    "\n",
    "Education:\n",
    "- Bachelor of Fine Arts in Graphic Design, XYZ College, GPA: 3.7/4.0\n",
    "- Diploma in Web Design, ABC Institute, GPA: 3.9/4.0\n",
    "\n",
    "Skills:\n",
    "- Proficient in Adobe Creative Suite (Photoshop, Illustrator, InDesign)\n",
    "- Strong understanding of typography, layout, and color theory\n",
    "- Experience in both print and digital design\n",
    "- Ability to conceptualize and execute design projects from concept to completion\n",
    "- Excellent attention to detail and time management skills\n",
    "\n",
    "Experience:\n",
    "Graphic Designer | XYZ Design Studio\n",
    "- Created visually appealing graphics for various marketing materials, including brochures, flyers, and social media posts\n",
    "- Collaborated with clients to understand their design needs and deliver creative solutions that align with their brand identity\n",
    "- Worked closely with the marketing team to ensure consistency in brand messaging across all platforms\n",
    "\n",
    "Freelance Designer\n",
    "- Designed logos, branding materials, and website layouts for small businesses and startups\n",
    "- Managed multiple projects simultaneously while meeting tight deadlines and maintaining quality standards\n",
    "- Established and maintained strong client relationships through clear communication and exceptional service\n",
    "\n",
    "Projects:\n",
    "- Rebranding Campaign for XYZ Company: Led a team to redesign the company's logo, website, and marketing collateral, resulting in a 30% increase in brand recognition\n",
    "- Packaging Design for ABC Product Launch: Developed eye-catching packaging designs for a new product line, contributing to a successful launch and positive customer feedback\n",
    "\n",
    "Certifications:\n",
    "- Adobe Certified Expert (ACE) in Adobe Illustrator\n",
    "- Responsive Web Design Certification from Udemy\n",
    "\n",
    "Languages:\n",
    "- English (Native)\n",
    "- Spanish (Intermediate)\n",
    "\"\"\"\n",
    "predicted_category = job_recommendation(resume_file)\n",
    "print(\"Predicted Category:\", predicted_category)"
   ]
  },
  {
   "cell_type": "code",
   "execution_count": 15,
   "id": "8d97375d-7509-4009-9050-946c434cae30",
   "metadata": {},
   "outputs": [
    {
     "name": "stdout",
     "output_type": "stream",
     "text": [
      "Predicted Category: Retirement Planner\n"
     ]
    }
   ],
   "source": [
    "#sam2\n",
    "resume_file=\"\"\"Objective:\n",
    "Dedicated and driven legal professional with a passion for advocating for justice and defending the rights of clients. Seeking a challenging position as an Advocate in a reputable law firm where I can apply my expertise in litigation, negotiation, and legal research to provide effective representation and achieve favorable outcomes for clients. Committed to upholding the principles of integrity, professionalism, and ethical conduct in all legal proceedings.\n",
    "\n",
    "Education:\n",
    "- Juris Doctor (JD), Law School, XYZ University\n",
    "- Bachelor of Arts in Political Science, ABC College, GPA: 3.7/4.0\n",
    "- Licensed Attorney, State Bar Association\n",
    "\n",
    "Skills:\n",
    "- Extensive experience in civil and criminal litigation, representing clients in court hearings, trials, and appellate proceedings\n",
    "- Strong research and analytical skills, conducting legal research, drafting legal documents, and preparing persuasive arguments\n",
    "- Excellent oral and written communication skills, articulating legal concepts and arguments effectively to judges, juries, and opposing counsel\n",
    "- Proven track record of negotiating favorable settlements and agreements on behalf of clients, resolving disputes through mediation and arbitration\n",
    "- Ability to work collaboratively with clients, colleagues, and experts to develop comprehensive legal strategies and achieve successful outcomes\n",
    "\n",
    "Experience:\n",
    "Associate Attorney | Law Firm LLP\n",
    "- Handled a diverse caseload of civil and criminal matters, including personal injury, family law, employment law, and criminal defense\n",
    "- Conducted legal research, drafted pleadings, motions, briefs, and other legal documents, and prepared for court hearings and trials\n",
    "- Represented clients in negotiations, mediations, and settlement conferences, securing favorable outcomes and settlements\n",
    "- Assisted senior attorneys in trial preparation, witness preparation, and courtroom presentations, contributing to successful trial outcomes\n",
    "\n",
    "Legal Intern | Public Defender's Office\n",
    "- Assisted attorneys in the defense of indigent clients in criminal cases, conducting legal research, drafting motions, and preparing for court appearances\n",
    "- Interviewed clients, witnesses, and law enforcement officers, gathering evidence and information to support defense strategies\n",
    "- Observed courtroom proceedings, including arraignments, hearings, and trials, and assisted in trial preparation and case management\n",
    "- Participated in client counseling sessions, explaining legal rights, options, and potential outcomes to clients facing criminal charges\n",
    "\n",
    "Law Clerk | Legal Aid Organization\n",
    "- Provided legal assistance to low-income individuals and families in civil matters, such as landlord-tenant disputes, consumer rights, and family law matters\n",
    "- Conducted intake interviews, assessed clients' legal needs, and provided information about available legal services and resources\n",
    "- Drafted legal documents, including pleadings, petitions, and correspondence, and assisted clients in completing court forms and applications\n",
    "- Collaborated with attorneys and social workers to address clients' legal and non-legal needs, connecting them with community resources and support services\n",
    "\n",
    "Certifications:\n",
    "- Certified Mediator, State Bar Association\n",
    "- Trial Advocacy Certificate, Law School\n",
    "\n",
    "Languages:\n",
    "- English (Native)\n",
    "- Spanish (Proficient) \"\"\"\n",
    "\n",
    "predicted_category = job_recommendation(resume_file)\n",
    "print(\"Predicted Category:\", predicted_category)"
   ]
  },
  {
   "cell_type": "code",
   "execution_count": 16,
   "id": "5523b4d8-b7aa-4fe6-9e04-b91a0135b1da",
   "metadata": {},
   "outputs": [],
   "source": [
    "import pickle\n",
    "pickle.dump(rf_classifier,open('rf_classifier_job_recommendation.pkl', 'wb'))\n",
    "pickle.dump(tfidf_vectorizer,open('tfidf_vectorizer_job_recommendation.pkl', 'wb'))\n"
   ]
  },
  {
   "cell_type": "code",
   "execution_count": null,
   "id": "4fd79d4f-8c34-414d-9b8d-40cfd3564fe7",
   "metadata": {},
   "outputs": [],
   "source": []
  }
 ],
 "metadata": {
  "kernelspec": {
   "display_name": "Python 3 (ipykernel)",
   "language": "python",
   "name": "python3"
  },
  "language_info": {
   "codemirror_mode": {
    "name": "ipython",
    "version": 3
   },
   "file_extension": ".py",
   "mimetype": "text/x-python",
   "name": "python",
   "nbconvert_exporter": "python",
   "pygments_lexer": "ipython3",
   "version": "3.12.7"
  }
 },
 "nbformat": 4,
 "nbformat_minor": 5
}
